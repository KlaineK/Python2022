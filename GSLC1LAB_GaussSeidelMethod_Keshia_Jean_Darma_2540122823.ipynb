{
  "nbformat": 4,
  "nbformat_minor": 0,
  "metadata": {
    "colab": {
      "name": "GSLC1LAB-GaussSeidelMethod-Keshia Jean Darma-2540122823.ipynb",
      "provenance": [],
      "authorship_tag": "ABX9TyPAIutRyV8JDMjePWPYVvQQ",
      "include_colab_link": true
    },
    "kernelspec": {
      "name": "python3",
      "display_name": "Python 3"
    },
    "language_info": {
      "name": "python"
    }
  },
  "cells": [
    {
      "cell_type": "markdown",
      "metadata": {
        "id": "view-in-github",
        "colab_type": "text"
      },
      "source": [
        "<a href=\"https://colab.research.google.com/github/KlaineK/Python2022/blob/main/GSLC1LAB_GaussSeidelMethod_Keshia_Jean_Darma_2540122823.ipynb\" target=\"_parent\"><img src=\"https://colab.research.google.com/assets/colab-badge.svg\" alt=\"Open In Colab\"/></a>"
      ]
    },
    {
      "cell_type": "code",
      "execution_count": 32,
      "metadata": {
        "id": "kCFJ7I8EmBEG",
        "colab": {
          "base_uri": "https://localhost:8080/"
        },
        "outputId": "da4832ef-ca36-4a39-b657-5a1a20299dd5"
      },
      "outputs": [
        {
          "output_type": "stream",
          "name": "stdout",
          "text": [
            "Matrix is diagonally dominant\n"
          ]
        }
      ],
      "source": [
        "import numpy as np\n",
        "g = [[8,3,-3],[-2,-8,5],[3,5,10]]\n",
        "#Temukan koefisien diagonal\n",
        "diag = np.diag(np.abs(g))\n",
        "\n",
        "#Temukan jumlah total baris tanpa diagonal\n",
        "off_diagonal = np.sum(np.abs(g), axis = 1) - diag\n",
        "\n",
        "if np.all(diag > off_diagonal):\n",
        "  print('Matrix is diagonally dominant')\n",
        "else :\n",
        "  print('Matrix is NOT diagonally dominant')"
      ]
    },
    {
      "cell_type": "code",
      "source": [
        "#Gauss Seidel Method\n",
        "x1 = 0\n",
        "x2 = 0\n",
        "x3 = 0\n",
        "epsilon = 0.01\n",
        "converged = False\n",
        "x_old = np.array([x1,x2,x3])"
      ],
      "metadata": {
        "id": "GU8YzZGDxLGJ"
      },
      "execution_count": 30,
      "outputs": []
    },
    {
      "cell_type": "code",
      "source": [
        "print('Iteration Results')\n",
        "print('k,   x1,   x2,   x3  ')\n",
        "for k in range (1,50) :\n",
        "  x1 = (14-3*x2+3*x3)/8\n",
        "  x2 = (5+2*x1-5*x3)/-8\n",
        "  x3 = (-8-3*x1-5*x2)/10\n",
        "  x = np.array([x1,x2,x3])\n",
        "  dx = np.sqrt(np.dot(x-x_old,x-x_old))\n",
        "  \n",
        "  print(\"%d,    %.4f,   %.4f,   %.4f\" %(k,x1,x2,x3))\n",
        "  if dx < epsilon :\n",
        "    converged = True\n",
        "    print('Converged!')\n",
        "    break\n",
        "  x_old = x\n",
        "if not converged :\n",
        "  print('Not converged, increase the number of iterations')"
      ],
      "metadata": {
        "colab": {
          "base_uri": "https://localhost:8080/"
        },
        "id": "ayZkyunh0Mdm",
        "outputId": "5b0109e9-99b7-40e5-c6de-320d7b79e445"
      },
      "execution_count": 31,
      "outputs": [
        {
          "output_type": "stream",
          "name": "stdout",
          "text": [
            "Iteration Results\n",
            "k,   x1,   x2,   x3  \n",
            "1,    1.7500,   -1.0625,   -0.7937\n",
            "2,    1.8508,   -1.5838,   -0.5633\n",
            "3,    2.1327,   -1.5103,   -0.6847\n",
            "4,    2.0596,   -1.5678,   -0.6340\n",
            "5,    2.1002,   -1.5463,   -0.6569\n",
            "6,    2.0835,   -1.5565,   -0.6468\n",
            "7,    2.0911,   -1.5520,   -0.6513\n",
            "Converged!\n"
          ]
        }
      ]
    },
    {
      "cell_type": "markdown",
      "source": [
        "# Not Diagonally Dominant, Not Convergent"
      ],
      "metadata": {
        "id": "phtrpTL04N2D"
      }
    },
    {
      "cell_type": "code",
      "source": [
        "r = [[9,1,-7],[-2,1,5],[3,5,1]]\n",
        "#Temukan koefisien diagonal\n",
        "diag = np.diag(np.abs(r))\n",
        "\n",
        "#Temukan jumlah total baris tanpa diagonal\n",
        "off_diagonal = np.sum(np.abs(r), axis = 1) - diag\n",
        "\n",
        "if np.all(diag > off_diagonal):\n",
        "  print('Matrix is diagonally dominant')\n",
        "else :\n",
        "  print('Matrix is NOT diagonally dominant')"
      ],
      "metadata": {
        "colab": {
          "base_uri": "https://localhost:8080/"
        },
        "id": "4BAZQsb64WQb",
        "outputId": "59ee61c9-53e3-4aee-8ab9-1286215c2867"
      },
      "execution_count": 36,
      "outputs": [
        {
          "output_type": "stream",
          "name": "stdout",
          "text": [
            "Matrix is NOT diagonally dominant\n"
          ]
        }
      ]
    },
    {
      "cell_type": "code",
      "source": [
        "x1 = 0\n",
        "x2 = 0\n",
        "x3 = 0\n",
        "epsilon = 0.01\n",
        "converged = False\n",
        "x_old = np.array([x1,x2,x3])"
      ],
      "metadata": {
        "id": "s9pIumY54i7F"
      },
      "execution_count": 37,
      "outputs": []
    },
    {
      "cell_type": "code",
      "source": [
        "print('Iteration Results')\n",
        "print('k,   x1,   x2,   x3  ')\n",
        "for k in range (1,50) :\n",
        "  x1 = (14-1*x2+7*x3)/9\n",
        "  x2 = (5+2*x1-5*x3)/5\n",
        "  x3 = (-8-3*x1-5*x2)/1\n",
        "  x = np.array([x1,x2,x3])\n",
        "  dx = np.sqrt(np.dot(x-x_old,x-x_old))\n",
        "  \n",
        "  print(\"%d,    %.4f,   %.4f,   %.4f\" %(k,x1,x2,x3))\n",
        "  if dx < epsilon :\n",
        "    converged = True\n",
        "    print('Converged!')\n",
        "    break\n",
        "  x_old = x\n",
        "if not converged :\n",
        "  print('Not converged, increase the number of iterations')"
      ],
      "metadata": {
        "colab": {
          "base_uri": "https://localhost:8080/"
        },
        "id": "11ymzGqY4mcb",
        "outputId": "4955f50d-bea9-4e89-88ea-fe3efb12e29d"
      },
      "execution_count": 38,
      "outputs": [
        {
          "output_type": "stream",
          "name": "stdout",
          "text": [
            "Iteration Results\n",
            "k,   x1,   x2,   x3  \n",
            "1,    1.5556,   1.6222,   -20.7778\n",
            "2,    -14.7852,   15.8637,   -42.9630\n",
            "3,    -33.6227,   30.5139,   -59.7012\n",
            "4,    -48.2692,   41.3936,   -70.1603\n",
            "5,    -57.6129,   48.1152,   -75.7373\n",
            "6,    -62.6973,   51.6583,   -78.1996\n",
            "7,    -65.0062,   53.1972,   -78.9672\n",
            "8,    -65.7742,   53.6575,   -78.9651\n",
            "9,    -65.8237,   53.6356,   -78.7071\n",
            "10,    -65.6206,   53.4588,   -78.4325\n",
            "11,    -65.3874,   53.2776,   -78.2256\n",
            "12,    -65.2063,   53.1431,   -78.0965\n",
            "13,    -65.0910,   53.0601,   -78.0277\n",
            "14,    -65.0283,   53.0164,   -77.9974\n",
            "15,    -64.9998,   52.9975,   -77.9880\n",
            "16,    -64.9904,   52.9918,   -77.9881\n",
            "17,    -64.9898,   52.9921,   -77.9913\n",
            "Converged!\n"
          ]
        }
      ]
    },
    {
      "cell_type": "markdown",
      "source": [
        "# Not Diagonally Dominant, but Convergent"
      ],
      "metadata": {
        "id": "GslQN9933rJY"
      }
    },
    {
      "cell_type": "code",
      "source": [
        "\n",
        "h = [[9,10,-7],[-2,8,5],[3,5,10]]\n",
        "#Temukan koefisien diagonal\n",
        "diag = np.diag(np.abs(h))\n",
        "\n",
        "#Temukan jumlah total baris tanpa diagonal\n",
        "off_diagonal = np.sum(np.abs(h), axis = 1) - diag\n",
        "\n",
        "if np.all(diag > off_diagonal):\n",
        "  print('Matrix is diagonally dominant')\n",
        "else :\n",
        "  print('Matrix is NOT diagonally dominant')"
      ],
      "metadata": {
        "colab": {
          "base_uri": "https://localhost:8080/"
        },
        "id": "0CVH_l573qTW",
        "outputId": "d166fbbc-150f-4324-b19e-9ab44bcd6fdd"
      },
      "execution_count": 33,
      "outputs": [
        {
          "output_type": "stream",
          "name": "stdout",
          "text": [
            "Matrix is NOT diagonally dominant\n"
          ]
        }
      ]
    },
    {
      "cell_type": "code",
      "source": [
        "x1 = 0\n",
        "x2 = 0\n",
        "x3 = 0\n",
        "epsilon = 0.01\n",
        "converged = False\n",
        "x_old = np.array([x1,x2,x3])"
      ],
      "metadata": {
        "id": "fwLRI7Jn4AVg"
      },
      "execution_count": 34,
      "outputs": []
    },
    {
      "cell_type": "code",
      "source": [
        "print('Iteration Results')\n",
        "print('k,   x1,   x2,   x3  ')\n",
        "for k in range (1,50) :\n",
        "  x1 = (14-10*x2+7*x3)/8\n",
        "  x2 = (5+2*x1-5*x3)/-8\n",
        "  x3 = (-8-3*x1-5*x2)/10\n",
        "  x = np.array([x1,x2,x3])\n",
        "  dx = np.sqrt(np.dot(x-x_old,x-x_old))\n",
        "  \n",
        "  print(\"%d,    %.4f,   %.4f,   %.4f\" %(k,x1,x2,x3))\n",
        "  if dx < epsilon :\n",
        "    converged = True\n",
        "    print('Converged!')\n",
        "    break\n",
        "  x_old = x\n",
        "if not converged :\n",
        "  print('Not converged, increase the number of iterations')"
      ],
      "metadata": {
        "colab": {
          "base_uri": "https://localhost:8080/"
        },
        "id": "Z0wH-6eu4CHD",
        "outputId": "0b3e46ef-a191-4e3a-e9e7-3d633543607a"
      },
      "execution_count": 35,
      "outputs": [
        {
          "output_type": "stream",
          "name": "stdout",
          "text": [
            "Iteration Results\n",
            "k,   x1,   x2,   x3  \n",
            "1,    1.7500,   -1.0625,   -0.7937\n",
            "2,    2.3836,   -1.7170,   -0.6566\n",
            "3,    3.3217,   -1.8658,   -0.8636\n",
            "4,    3.3266,   -1.9964,   -0.7998\n",
            "5,    3.5457,   -2.0113,   -0.8581\n",
            "6,    3.5133,   -2.0396,   -0.8342\n",
            "7,    3.5696,   -2.0388,   -0.8515\n",
            "8,    3.5534,   -2.0455,   -0.8432\n",
            "9,    3.5691,   -2.0443,   -0.8486\n",
            "10,    3.5629,   -2.0461,   -0.8458\n",
            "Converged!\n"
          ]
        }
      ]
    }
  ]
}