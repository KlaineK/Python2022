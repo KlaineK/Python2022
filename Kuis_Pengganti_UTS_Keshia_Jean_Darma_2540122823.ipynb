{
  "nbformat": 4,
  "nbformat_minor": 0,
  "metadata": {
    "colab": {
      "name": "Kuis-Pengganti-UTS--Keshia_Jean_Darma_2540122823.ipynb",
      "provenance": [],
      "collapsed_sections": [],
      "authorship_tag": "ABX9TyPSQ/7gEofGUz/fJLXamDiR",
      "include_colab_link": true
    },
    "kernelspec": {
      "name": "python3",
      "display_name": "Python 3"
    },
    "language_info": {
      "name": "python"
    }
  },
  "cells": [
    {
      "cell_type": "markdown",
      "metadata": {
        "id": "view-in-github",
        "colab_type": "text"
      },
      "source": [
        "<a href=\"https://colab.research.google.com/github/KlaineK/Python2022/blob/main/Kuis_Pengganti_UTS_Keshia_Jean_Darma_2540122823.ipynb\" target=\"_parent\"><img src=\"https://colab.research.google.com/assets/colab-badge.svg\" alt=\"Open In Colab\"/></a>"
      ]
    },
    {
      "cell_type": "markdown",
      "source": [
        "#Newton Divided Difference\n"
      ],
      "metadata": {
        "id": "OrjV0TSCOHch"
      }
    },
    {
      "cell_type": "code",
      "source": [
        "import numpy as np\n",
        "import pandas as pd\n",
        "import matplotlib.pyplot as plt\n",
        "\n",
        "plt.style.use('seaborn-poster')"
      ],
      "metadata": {
        "id": "d5KnPmpFasze"
      },
      "execution_count": 4,
      "outputs": []
    },
    {
      "cell_type": "code",
      "source": [
        "def proterm(i, value, x): \n",
        "    pro = 1; \n",
        "    for j in range(i): \n",
        "        pro = pro * (value - x[j]); \n",
        "    return pro; \n",
        "\n",
        "def dividedDiffTable(x, y, n):\n",
        "  \n",
        "    for i in range(1, n): \n",
        "        for j in range(n - i): \n",
        "            y[j][i] = ((y[j][i - 1] - y[j + 1][i - 1]) / (x[j] - x[i + j]));\n",
        "    return y;\n",
        "  \n",
        "def applyFormula(value, x, y, n): \n",
        "  \n",
        "    sum = y[0][0]; \n",
        "  \n",
        "    for i in range(1, n):\n",
        "        sum = sum + (proterm(i, value, x) * y[0][i]); \n",
        "      \n",
        "    return sum; \n",
        "\n",
        "def printDiffTable(y, n): \n",
        "  \n",
        "    for i in range(n):\n",
        "        print(x[i],\"\\t\", end = \" \") \n",
        "        for j in range(n - i): \n",
        "            print(round(y[i][j], 4), \"   \\t\", end = \" \"); \n",
        "  \n",
        "        print(\"\"); \n",
        "\n",
        "n = 7; \n",
        "y = [[0 for i in range(7)] for j in range(7)]; \n",
        "x = [ 0.1, 0.3, 0.5, 0.7, 0.9, 1.1, 1.3]; \n",
        "\n",
        "y[0][0] = 0.003; \n",
        "y[1][0] = 0.067; \n",
        "y[2][0] = 0.148; \n",
        "y[3][0] = 0.248;\n",
        "y[4][0] = 0.370;\n",
        "y[5][0] = 0.518;\n",
        "y[6][0] = 0.697;\n",
        "  \n",
        "y=dividedDiffTable(x, y, n); \n",
        "\n",
        "print(\" x\\t f(x)\\n\")  \n",
        "printDiffTable(y, n); \n",
        "  \n",
        "value = 5.8; \n",
        "print(\"\\nValue at\", value, \"is\", round(applyFormula(value, x, y, n), 4))\n",
        "  "
      ],
      "metadata": {
        "colab": {
          "base_uri": "https://localhost:8080/"
        },
        "id": "8GwF5VH3hYva",
        "outputId": "a4074236-66f3-468a-d5e1-8ed841792be4"
      },
      "execution_count": 5,
      "outputs": [
        {
          "output_type": "stream",
          "name": "stdout",
          "text": [
            " x\t f(x)\n",
            "\n",
            "0.1 \t 0.003    \t 0.32    \t 0.2125    \t 0.0417    \t 0.026    \t 0.0    \t -0.0    \t \n",
            "0.3 \t 0.067    \t 0.405    \t 0.2375    \t 0.0625    \t 0.026    \t -0.0    \t \n",
            "0.5 \t 0.148    \t 0.5    \t 0.275    \t 0.0833    \t 0.026    \t \n",
            "0.7 \t 0.248    \t 0.61    \t 0.325    \t 0.1042    \t \n",
            "0.9 \t 0.37    \t 0.74    \t 0.3875    \t \n",
            "1.1 \t 0.518    \t 0.895    \t \n",
            "1.3 \t 0.697    \t \n",
            "\n",
            "Value at 5.8 is 37.4795\n"
          ]
        }
      ]
    },
    {
      "cell_type": "code",
      "source": [
        "def _poly_newton_coefficient(x, y):    \n",
        "    \"\"\"\n",
        "    x: list or np array contanining x data points\n",
        "    y: list or np array contanining y data points\n",
        "    \"\"\"\n",
        "\n",
        "    m = len(x)\n",
        "\n",
        "    x = np.copy(x)\n",
        "    a = np.copy(y)\n",
        "    for k in range(1, m):\n",
        "        a[k:m] = (a[k:m] - a[k - 1])/(x[k:m] - x[k - 1])\n",
        "\n",
        "    return a\n",
        "\n",
        "def newton_polynomial(x_data, y_data, x):\n",
        "    \"\"\"\n",
        "    x_data: data points at x\n",
        "    y_data: data points at y\n",
        "    x: evaluation point(s)\n",
        "    \"\"\"\n",
        "    a = _poly_newton_coefficient(x_data, y_data)\n",
        "    n = len(x_data) - 1  # Degree of polynomial\n",
        "    p = a[n]\n",
        "\n",
        "    for k in range(1, n + 1):\n",
        "        p = a[n - k] + (x - x_data[n - k])*p\n",
        "\n",
        "    return p"
      ],
      "metadata": {
        "id": "SMOfBJarapsZ"
      },
      "execution_count": 6,
      "outputs": []
    },
    {
      "cell_type": "code",
      "source": [
        "newton_interpolation = newton_polynomial([0.1, 0.3, 0.5, 0.7, 0.9, 1.1, 1.3], [0.003, 0.067, 0.148, 0.248, 0.370, 0.518, 0.697], np.array([0.0, 0.5, 1.0, 1.5]))\n",
        "\n",
        "plt.figure(figsize=(15,10))\n",
        "plt.scatter([0.1, 0.3, 0.5, 0.7, 0.9, 1.1, 1.3], [0.003, 0.067, 0.148, 0.248, 0.370, 0.518, 0.697])\n",
        "plt.plot([0.0, 0.5, 1.0, 1.5], newton_interpolation, 'red')\n",
        "plt.title('Newton Polynomial Interpolation')"
      ],
      "metadata": {
        "colab": {
          "base_uri": "https://localhost:8080/",
          "height": 464
        },
        "id": "KH4HEciJa6EH",
        "outputId": "d103d6b3-aa6a-4013-a098-722ed1f3a9b4"
      },
      "execution_count": 7,
      "outputs": [
        {
          "output_type": "execute_result",
          "data": {
            "text/plain": [
              "Text(0.5, 1.0, 'Newton Polynomial Interpolation')"
            ]
          },
          "metadata": {},
          "execution_count": 7
        },
        {
          "output_type": "display_data",
          "data": {
            "text/plain": [
              "<Figure size 1080x720 with 1 Axes>"
            ],
            "image/png": "[encoded data removed]"
          },
          "metadata": {
            "needs_background": "light"
          }
        }
      ]
    },
    {
      "cell_type": "markdown",
      "source": [
        "#Linear Regression\n"
      ],
      "metadata": {
        "id": "YsTcp2-KeKqj"
      }
    },
    {
      "cell_type": "code",
      "source": [
        "import numpy as np\n",
        "from sklearn.linear_model import LinearRegression"
      ],
      "metadata": {
        "id": "80Nub0TVttdt"
      },
      "execution_count": 26,
      "outputs": []
    },
    {
      "cell_type": "markdown",
      "source": [
        "Fungsi x^3+2x-y"
      ],
      "metadata": {
        "id": "ET6vG97_TIJY"
      }
    },
    {
      "cell_type": "code",
      "source": [
        "# function x^3+2x-y\n",
        "x = [0.1, 0.3, 0.5, 0.7, 0.9, 1.1, 1.3]\n",
        "y = [0.003, 0.067, 0.148, 0.248, 0.370, 0.518, 0.697]\n",
        "val = [0 for i in range(0,7)]\n",
        "\n",
        "for i in range(0,7):\n",
        "  val[i] = pow(x[i],3)+2*x[i]-y[i]\n",
        "\n",
        "print(\"The function : x^3+2x-y\\n\")\n",
        "print(\" x\\t   y\\t  f(x)\\n\")\n",
        "for i in range(0, 7):\n",
        "  print(x[i],\"\\t\",y[i],\"\\t\",round(val[i],4),\"\\n\")"
      ],
      "metadata": {
        "colab": {
          "base_uri": "https://localhost:8080/"
        },
        "id": "--l3FXwMqtAg",
        "outputId": "fc18d51d-1593-472b-9b28-6e7c24221b6b"
      },
      "execution_count": 27,
      "outputs": [
        {
          "output_type": "stream",
          "name": "stdout",
          "text": [
            "The function : x^3+2x-y\n",
            "\n",
            " x\t   y\t  f(x)\n",
            "\n",
            "0.1 \t 0.003 \t 0.198 \n",
            "\n",
            "0.3 \t 0.067 \t 0.56 \n",
            "\n",
            "0.5 \t 0.148 \t 0.977 \n",
            "\n",
            "0.7 \t 0.248 \t 1.495 \n",
            "\n",
            "0.9 \t 0.37 \t 2.159 \n",
            "\n",
            "1.1 \t 0.518 \t 3.013 \n",
            "\n",
            "1.3 \t 0.697 \t 4.1 \n",
            "\n"
          ]
        }
      ]
    },
    {
      "cell_type": "code",
      "source": [
        "#Independent Variable\n",
        "a = [[0.1, 0.003], [0.3, 0.067], [0.5, 0.148], [0.7, 0.248], [0.9, 0.370], [1.1, 0.518], [1.3, 0.697]]\n",
        "#Dependent Variable\n",
        "b = [0.198, 0.56, 0.977, 1.495, 2.159, 3.013, 4.1]\n",
        "a, b = np.array(a), np.array(b)"
      ],
      "metadata": {
        "id": "cKbhhfmOElk9"
      },
      "execution_count": 30,
      "outputs": []
    },
    {
      "cell_type": "code",
      "source": [
        "model = LinearRegression().fit(a,b)\n",
        "coeffdet = model.score(a,b)\n",
        "print(\"Coefficient of Determination :\", coeffdet)\n",
        "print(\"Intercept : \", model.intercept_)\n",
        "print(\"Slope : \", model.coef_)"
      ],
      "metadata": {
        "colab": {
          "base_uri": "https://localhost:8080/"
        },
        "id": "UwW7pnEcMdn8",
        "outputId": "f416991e-cbd7-4f82-cedf-a4cd8a1dd217"
      },
      "execution_count": 31,
      "outputs": [
        {
          "output_type": "stream",
          "name": "stdout",
          "text": [
            "Coefficient of Determination : 0.9997485666829055\n",
            "Intercept :  0.255472728939407\n",
            "Slope :  [-0.50840499  6.43826199]\n"
          ]
        }
      ]
    },
    {
      "cell_type": "code",
      "source": [
        "b_pred = model.predict(a)\n",
        "print(\"Predicted Response : \", b_pred, sep=\"\\n\")"
      ],
      "metadata": {
        "colab": {
          "base_uri": "https://localhost:8080/"
        },
        "id": "uSChI-iPOEl8",
        "outputId": "073925e1-bd7d-4020-d3c2-27ef720d00a9"
      },
      "execution_count": 33,
      "outputs": [
        {
          "output_type": "stream",
          "name": "stdout",
          "text": [
            "Predicted Response : \n",
            "[0.22394702 0.53431479 0.95413301 1.49627821 2.18006518 3.03124695\n",
            " 4.08201485]\n"
          ]
        }
      ]
    },
    {
      "cell_type": "code",
      "source": [
        "# function 2*x*y\n",
        "x = [0.1, 0.3, 0.5, 0.7, 0.9, 1.1, 1.3]\n",
        "y = [0.003, 0.067, 0.148, 0.248, 0.370, 0.518, 0.697]\n",
        "val = [0 for i in range(0,7)]\n",
        "\n",
        "for i in range(0,7):\n",
        "  val[i] = (2*x[i])*y[i]\n",
        "\n",
        "print(\"The function : x^3+2x-y\\n\")\n",
        "print(\" x\\t   y\\t  f(x)\\n\")\n",
        "for i in range(0, 7):\n",
        "  print(x[i],\"\\t\",y[i],\"\\t\",round(val[i],4),\"\\n\")"
      ],
      "metadata": {
        "colab": {
          "base_uri": "https://localhost:8080/"
        },
        "id": "aPH_VLMNuZiw",
        "outputId": "7bc3efa2-6741-40fe-d98a-8245664482ae"
      },
      "execution_count": null,
      "outputs": [
        {
          "output_type": "stream",
          "name": "stdout",
          "text": [
            "The function : x^3+2x-y\n",
            "\n",
            " x\t   y\t  f(x)\n",
            "\n",
            "0.1 \t 0.003 \t 0.0006 \n",
            "\n",
            "0.3 \t 0.067 \t 0.0402 \n",
            "\n",
            "0.5 \t 0.148 \t 0.148 \n",
            "\n",
            "0.7 \t 0.248 \t 0.3472 \n",
            "\n",
            "0.9 \t 0.37 \t 0.666 \n",
            "\n",
            "1.1 \t 0.518 \t 1.1396 \n",
            "\n",
            "1.3 \t 0.697 \t 1.8122 \n",
            "\n"
          ]
        }
      ]
    },
    {
      "cell_type": "markdown",
      "source": [
        "Fungsi 2*x*y"
      ],
      "metadata": {
        "id": "JPwUtE1-TDop"
      }
    },
    {
      "cell_type": "code",
      "source": [
        "#Independent Variable\n",
        "c = [[0.1, 0.003], [0.3, 0.067], [0.5, 0.148], [0.7, 0.248], [0.9, 0.370], [1.1, 0.518], [1.3, 0.697]]\n",
        "#Dependent Variable\n",
        "d = [0.0006, 0.0402, 0.148, 0.3472, 0.666, 1.1396, 1.8122]\n",
        "c, d = np.array(c), np.array(d)"
      ],
      "metadata": {
        "id": "N8mrEFqwX5wc"
      },
      "execution_count": 36,
      "outputs": []
    },
    {
      "cell_type": "code",
      "source": [
        "model = LinearRegression().fit(c,d)\n",
        "koefd = model.score(c,d)\n",
        "print(\"Coefficient of Determination :\", koefd)\n",
        "print(\"Intercept : \", model.intercept_)\n",
        "print(\"Slope : \", model.coef_)\n",
        "d_pred = model.predict(c)\n",
        "print(\"\\nPredicted Response : \", d_pred, sep=\"\\n\")"
      ],
      "metadata": {
        "colab": {
          "base_uri": "https://localhost:8080/"
        },
        "id": "AiLCoDk5TAfa",
        "outputId": "279ed639-41c9-4b71-aeab-f70c1cd84d07"
      },
      "execution_count": 39,
      "outputs": [
        {
          "output_type": "stream",
          "name": "stdout",
          "text": [
            "Coefficient of Determination : 0.9996173782714574\n",
            "Intercept :  0.16825927216060133\n",
            "Slope :  [-1.69939945  5.51099092]\n",
            "\n",
            "Predicted Response : \n",
            "[0.0148523  0.02767583 0.13418621 0.34540541 0.67786641 1.15361318\n",
            " 1.80020067]\n"
          ]
        }
      ]
    }
  ]
}