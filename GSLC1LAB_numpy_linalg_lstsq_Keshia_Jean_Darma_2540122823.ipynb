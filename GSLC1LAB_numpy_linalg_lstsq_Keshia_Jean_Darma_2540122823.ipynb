{
  "nbformat": 4,
  "nbformat_minor": 0,
  "metadata": {
    "colab": {
      "name": "GSLC1LAB-numpy.linalg.lstsq-Keshia Jean Darma-2540122823.ipynb",
      "provenance": [],
      "authorship_tag": "ABX9TyNQmoy3KOlRNAYScAMFhFUY",
      "include_colab_link": true
    },
    "kernelspec": {
      "name": "python3",
      "display_name": "Python 3"
    },
    "language_info": {
      "name": "python"
    }
  },
  "cells": [
    {
      "cell_type": "markdown",
      "metadata": {
        "id": "view-in-github",
        "colab_type": "text"
      },
      "source": [
        "<a href=\"https://colab.research.google.com/github/KlaineK/Python2022/blob/main/GSLC1LAB_numpy_linalg_lstsq_Keshia_Jean_Darma_2540122823.ipynb\" target=\"_parent\"><img src=\"https://colab.research.google.com/assets/colab-badge.svg\" alt=\"Open In Colab\"/></a>"
      ]
    },
    {
      "cell_type": "code",
      "source": [
        "import numpy as np\n",
        "from scipy import optimize\n",
        "import matplotlib.pyplot as plt\n",
        "\n",
        "plt.style.use('seaborn-poster')\n",
        "\n",
        "# generate x and y\n",
        "x = np.linspace(0, 1, 101)\n",
        "y = 1 + x + x * np.random.random(len(x))\n",
        "\n",
        "#susun matrix A\n",
        "A = np.vstack([x, np.ones(len(x))]).T\n",
        "\n",
        "#turn y into a column vector\n",
        "y = y[:, np.newaxis]\n",
        "\n",
        "#direct least square regression\n",
        "alpha = np.dot((np.dot(np.linalg.inv(np.dot(A.T,A)),A.T)),y)\n",
        "print(alpha)"
      ],
      "metadata": {
        "colab": {
          "base_uri": "https://localhost:8080/"
        },
        "id": "w-KEu2pm9vjx",
        "outputId": "8e8719dd-c322-4c10-c01a-b0fa3bf56ef4"
      },
      "execution_count": 2,
      "outputs": [
        {
          "output_type": "stream",
          "name": "stdout",
          "text": [
            "[[1.36029722]\n",
            " [1.03797377]]\n"
          ]
        }
      ]
    },
    {
      "cell_type": "code",
      "execution_count": 4,
      "metadata": {
        "colab": {
          "base_uri": "https://localhost:8080/"
        },
        "id": "kG5ggWmX9ksH",
        "outputId": "4a6f4164-5d39-4994-8878-5096f2c20de8"
      },
      "outputs": [
        {
          "output_type": "stream",
          "name": "stdout",
          "text": [
            "[[1.36029722]\n",
            " [1.03797377]]\n"
          ]
        }
      ],
      "source": [
        "alpha = np.linalg.lstsq(A, y, rcond=None)[0]\n",
        "print(alpha)"
      ]
    }
  ]
}