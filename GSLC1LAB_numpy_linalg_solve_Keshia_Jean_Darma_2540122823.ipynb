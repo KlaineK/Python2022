{
  "nbformat": 4,
  "nbformat_minor": 0,
  "metadata": {
    "colab": {
      "name": "GSLC1LAB-numpy.linalg.solve-Keshia Jean Darma-2540122823.ipynb",
      "provenance": [],
      "authorship_tag": "ABX9TyN+y626KITXJRyib6Em0L0k",
      "include_colab_link": true
    },
    "kernelspec": {
      "name": "python3",
      "display_name": "Python 3"
    },
    "language_info": {
      "name": "python"
    }
  },
  "cells": [
    {
      "cell_type": "markdown",
      "metadata": {
        "id": "view-in-github",
        "colab_type": "text"
      },
      "source": [
        "<a href=\"https://colab.research.google.com/github/KlaineK/Python2022/blob/main/GSLC1LAB_numpy_linalg_solve_Keshia_Jean_Darma_2540122823.ipynb\" target=\"_parent\"><img src=\"https://colab.research.google.com/assets/colab-badge.svg\" alt=\"Open In Colab\"/></a>"
      ]
    },
    {
      "cell_type": "code",
      "execution_count": 1,
      "metadata": {
        "colab": {
          "base_uri": "https://localhost:8080/"
        },
        "id": "xA6fleyH2yiJ",
        "outputId": "f906b93d-be89-4ecf-dd45-9d5e692dbb81"
      },
      "outputs": [
        {
          "output_type": "stream",
          "name": "stdout",
          "text": [
            "[ 2.20833333 -2.58333333 -0.18333333]\n"
          ]
        }
      ],
      "source": [
        "import numpy as np\n",
        "\n",
        "a = np.array([[4,3,-5],[-2,-4,5],[8,8,0]])\n",
        "y = np.array([2,5,-3])\n",
        "x = np.linalg.solve(a,y)\n",
        "print(x)"
      ]
    }
  ]
}