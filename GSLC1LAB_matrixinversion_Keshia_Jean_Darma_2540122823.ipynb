{
  "nbformat": 4,
  "nbformat_minor": 0,
  "metadata": {
    "colab": {
      "name": "GSLC1LAB-matrixinversion-Keshia Jean Darma-2540122823.ipynb",
      "provenance": [],
      "authorship_tag": "ABX9TyNpg1hUrsQirSdsgpuNBONk",
      "include_colab_link": true
    },
    "kernelspec": {
      "name": "python3",
      "display_name": "Python 3"
    },
    "language_info": {
      "name": "python"
    }
  },
  "cells": [
    {
      "cell_type": "markdown",
      "metadata": {
        "id": "view-in-github",
        "colab_type": "text"
      },
      "source": [
        "<a href=\"https://colab.research.google.com/github/KlaineK/Python2022/blob/main/GSLC1LAB_matrixinversion_Keshia_Jean_Darma_2540122823.ipynb\" target=\"_parent\"><img src=\"https://colab.research.google.com/assets/colab-badge.svg\" alt=\"Open In Colab\"/></a>"
      ]
    },
    {
      "cell_type": "code",
      "source": [
        "import numpy as np\n",
        "\n",
        "a = np.array([[4,3,-5],[-2,-4,5],[8,8,0]])\n",
        "y = np.array([2,5,-3])\n",
        "x = np.linalg.solve(a,y)\n",
        "print(x)"
      ],
      "metadata": {
        "colab": {
          "base_uri": "https://localhost:8080/"
        },
        "id": "8h3g6h2S6JRS",
        "outputId": "b9406a09-cf4f-4145-9f0d-ded2d4b0015a"
      },
      "execution_count": 2,
      "outputs": [
        {
          "output_type": "stream",
          "name": "stdout",
          "text": [
            "[ 2.20833333 -2.58333333 -0.18333333]\n"
          ]
        }
      ]
    },
    {
      "cell_type": "code",
      "execution_count": 5,
      "metadata": {
        "colab": {
          "base_uri": "https://localhost:8080/"
        },
        "id": "eoHreuhA51Ag",
        "outputId": "40091635-3603-4039-ea9f-08dada909ea3"
      },
      "outputs": [
        {
          "output_type": "stream",
          "name": "stdout",
          "text": [
            "[ 2.20833333 -2.58333333 -0.18333333]\n"
          ]
        }
      ],
      "source": [
        "a_inv = np.linalg.inv(a)\n",
        "x = np.dot(a_inv, y)\n",
        "print(x)"
      ]
    }
  ]
}