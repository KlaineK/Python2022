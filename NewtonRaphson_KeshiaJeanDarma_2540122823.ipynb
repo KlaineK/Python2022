{
  "nbformat": 4,
  "nbformat_minor": 0,
  "metadata": {
    "colab": {
      "name": "NewtonRaphson_KeshiaJeanDarma_2540122823.ipynb",
      "provenance": [],
      "authorship_tag": "ABX9TyNG4BI2ug4+OCf3P5H6YVlY",
      "include_colab_link": true
    },
    "kernelspec": {
      "name": "python3",
      "display_name": "Python 3"
    },
    "language_info": {
      "name": "python"
    }
  },
  "cells": [
    {
      "cell_type": "markdown",
      "metadata": {
        "id": "view-in-github",
        "colab_type": "text"
      },
      "source": [
        "<a href=\"https://colab.research.google.com/github/KlaineK/Python2022/blob/main/NewtonRaphson_KeshiaJeanDarma_2540122823.ipynb\" target=\"_parent\"><img src=\"https://colab.research.google.com/assets/colab-badge.svg\" alt=\"Open In Colab\"/></a>"
      ]
    },
    {
      "cell_type": "markdown",
      "source": [
        "#Newton - Raphson Method"
      ],
      "metadata": {
        "id": "EF-yTuO7hwV2"
      }
    },
    {
      "cell_type": "code",
      "execution_count": 1,
      "metadata": {
        "colab": {
          "base_uri": "https://localhost:8080/"
        },
        "id": "2GxtqW27hszb",
        "outputId": "7cef1f50-528e-4e77-836d-6741754085f9"
      },
      "outputs": [
        {
          "output_type": "stream",
          "name": "stdout",
          "text": [
            "Newton-Raphson =  1.4142857142857144\n",
            "sqrt(2) =  1.4142135623730951\n"
          ]
        }
      ],
      "source": [
        "import numpy as np\n",
        "\n",
        "f = lambda x : x**2 - 2\n",
        "f_prime = lambda x : 2*x\n",
        "\n",
        "newton_raphson = 1.4 - (f(1.4)/f_prime(1.4))\n",
        "\n",
        "print(\"Newton-Raphson = \", newton_raphson)\n",
        "print(\"sqrt(2) = \", np.sqrt(2))"
      ]
    },
    {
      "cell_type": "code",
      "source": [
        "def newtonRaph(f, df, x0, tol) :\n",
        "  if abs(f(x0)) < tol:\n",
        "    return x0\n",
        "  else :\n",
        "    return newtonRaph(f, df, x0-f(x0)/df(x0), tol) "
      ],
      "metadata": {
        "id": "ZCAiV2jli86L"
      },
      "execution_count": 3,
      "outputs": []
    },
    {
      "cell_type": "code",
      "source": [
        "estimate = newtonRaph(f, f_prime, 1.5, 1e-6)\n",
        "print(\"Estimate = \", estimate)\n",
        "print(\"sqrt(2) = \", np.sqrt(2))"
      ],
      "metadata": {
        "colab": {
          "base_uri": "https://localhost:8080/"
        },
        "id": "_LHjM15AjPL8",
        "outputId": "c62bec85-a856-49e6-e6fe-5488ebd6beb2"
      },
      "execution_count": 4,
      "outputs": [
        {
          "output_type": "stream",
          "name": "stdout",
          "text": [
            "Estimate =  1.4142135623746899\n",
            "sqrt(2) =  1.4142135623730951\n"
          ]
        }
      ]
    }
  ]
}